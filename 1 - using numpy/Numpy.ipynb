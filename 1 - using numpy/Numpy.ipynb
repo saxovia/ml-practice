{
 "cells": [
  {
   "cell_type": "code",
   "execution_count": 1,
   "id": "cc22b9ea-f102-4cc4-859e-370c513f5ecf",
   "metadata": {},
   "outputs": [],
   "source": [
    "import numpy as np"
   ]
  },
  {
   "cell_type": "code",
   "execution_count": 3,
   "id": "e2b56907-4c10-436c-bb0c-b844fd2b7aed",
   "metadata": {},
   "outputs": [
    {
     "data": {
      "text/plain": [
       "'1.26.4'"
      ]
     },
     "execution_count": 3,
     "metadata": {},
     "output_type": "execute_result"
    }
   ],
   "source": [
    "np.__version__"
   ]
  },
  {
   "cell_type": "code",
   "execution_count": 11,
   "id": "dbb652e8-ab5a-4164-8f96-8f5ee037b48c",
   "metadata": {},
   "outputs": [],
   "source": [
    "a = np.array([1,2,3,5])"
   ]
  },
  {
   "cell_type": "code",
   "execution_count": 15,
   "id": "7b6309b5-be56-4030-9e03-eef3fdd4348d",
   "metadata": {},
   "outputs": [
    {
     "data": {
      "text/plain": [
       "(array([1, 2, 3, 5]), numpy.ndarray, (4,), 1)"
      ]
     },
     "execution_count": 15,
     "metadata": {},
     "output_type": "execute_result"
    }
   ],
   "source": [
    "a, type(a), a.shape, a.ndim"
   ]
  },
  {
   "cell_type": "code",
   "execution_count": 19,
   "id": "7fcf8a89-cf15-4589-b09b-bacc1dfe2967",
   "metadata": {},
   "outputs": [
    {
     "data": {
      "text/plain": [
       "(array([1, 2, 3, 5]), numpy.ndarray, (4,), 1)"
      ]
     },
     "execution_count": 19,
     "metadata": {},
     "output_type": "execute_result"
    }
   ],
   "source": [
    "a = np.array((1,2,3,5))\n",
    "a, type(a), a.shape, a.ndim"
   ]
  },
  {
   "cell_type": "code",
   "execution_count": 23,
   "id": "a7d4a033-d6b5-49a3-8ab5-04e025883d03",
   "metadata": {},
   "outputs": [
    {
     "data": {
      "text/plain": [
       "(array(2), numpy.ndarray, (), 0)"
      ]
     },
     "execution_count": 23,
     "metadata": {},
     "output_type": "execute_result"
    }
   ],
   "source": [
    "# 0 dimensional\n",
    "a = np.array(2)\n",
    "a, type(a), a.shape, a.ndim"
   ]
  },
  {
   "cell_type": "code",
   "execution_count": 27,
   "id": "f92c5960-dd03-4f7d-83c2-042653542905",
   "metadata": {},
   "outputs": [
    {
     "data": {
      "text/plain": [
       "(array([[1, 2, 3, 4],\n",
       "        [1, 2, 3, 4]]),\n",
       " numpy.ndarray,\n",
       " (2, 4),\n",
       " 2)"
      ]
     },
     "execution_count": 27,
     "metadata": {},
     "output_type": "execute_result"
    }
   ],
   "source": [
    "# 2 dimensional\n",
    "a = np.array([[1,2,3,4],[1,2,3,4]])\n",
    "a, type(a), a.shape, a.ndim"
   ]
  },
  {
   "cell_type": "code",
   "execution_count": 39,
   "id": "8599af53-d123-46b8-a714-6de9a59e71e6",
   "metadata": {},
   "outputs": [
    {
     "data": {
      "text/plain": [
       "(array([[[1, 2, 3, 4],\n",
       "         [1, 2, 3, 4]],\n",
       " \n",
       "        [[1, 2, 3, 4],\n",
       "         [1, 2, 3, 4]]]),\n",
       " numpy.ndarray,\n",
       " (2, 2, 4),\n",
       " 3,\n",
       " 3,\n",
       " 2)"
      ]
     },
     "execution_count": 39,
     "metadata": {},
     "output_type": "execute_result"
    }
   ],
   "source": [
    "# 3 dimensional -> list/vector of 2d list/vector\n",
    "a = np.array([[[1,2,3,4],[1,2,3,4]],[[1,2,3,4],[1,2,3,4]]])\n",
    "a, type(a), a.shape, a.ndim, len(a.shape), len(a)\n",
    "# len shape is the dimension of the vector"
   ]
  },
  {
   "cell_type": "code",
   "execution_count": 45,
   "id": "0c30af8f-e633-43d7-906e-f88302fdebfe",
   "metadata": {},
   "outputs": [
    {
     "data": {
      "text/plain": [
       "(array([0., 1.], dtype=float32), dtype('float32'))"
      ]
     },
     "execution_count": 45,
     "metadata": {},
     "output_type": "execute_result"
    }
   ],
   "source": [
    "a = np.array(['0', '1'], dtype='f')\n",
    "a, a.dtype"
   ]
  },
  {
   "cell_type": "code",
   "execution_count": 47,
   "id": "40d2be35-1a6d-4870-8b65-c6ffd7d0d7b8",
   "metadata": {},
   "outputs": [],
   "source": [
    "b = a.astype('i') #converting to int"
   ]
  },
  {
   "cell_type": "code",
   "execution_count": 51,
   "id": "82b89366-3159-4023-b237-5cb607acb2b6",
   "metadata": {},
   "outputs": [
    {
     "data": {
      "text/plain": [
       "array(['0', '1'], dtype='<U11')"
      ]
     },
     "execution_count": 51,
     "metadata": {},
     "output_type": "execute_result"
    }
   ],
   "source": [
    "b.astype('U') #converting back to unicode string"
   ]
  },
  {
   "cell_type": "code",
   "execution_count": 53,
   "id": "58409814-d200-4f25-84c5-4a318ce10dbf",
   "metadata": {},
   "outputs": [
    {
     "data": {
      "text/plain": [
       "array([1., 0.], dtype=float32)"
      ]
     },
     "execution_count": 53,
     "metadata": {},
     "output_type": "execute_result"
    }
   ],
   "source": [
    "-np.sort(-a) #descending order sort!"
   ]
  },
  {
   "cell_type": "markdown",
   "id": "1eef6902-433d-47f8-b9ff-7138958cf92a",
   "metadata": {},
   "source": [
    "nan -> not a number and \n",
    "inf -> inf"
   ]
  },
  {
   "cell_type": "code",
   "execution_count": 62,
   "id": "13ae2b27-f117-4258-a14b-fccedfded225",
   "metadata": {},
   "outputs": [
    {
     "data": {
      "text/plain": [
       "False"
      ]
     },
     "execution_count": 62,
     "metadata": {},
     "output_type": "execute_result"
    }
   ],
   "source": [
    "np.nan == np.nan\n",
    "a = np.nan\n",
    "b = np.nan\n",
    "a, b"
   ]
  },
  {
   "cell_type": "code",
   "execution_count": 64,
   "id": "79363cbd-e308-436b-87b9-d629a221dbf3",
   "metadata": {},
   "outputs": [
    {
     "data": {
      "text/plain": [
       "(array([ True,  True]), array([False, False]), array([False, False]))"
      ]
     },
     "execution_count": 64,
     "metadata": {},
     "output_type": "execute_result"
    }
   ],
   "source": [
    "a ==b, a>b, a<b"
   ]
  },
  {
   "cell_type": "code",
   "execution_count": 68,
   "id": "606cc15d-dc34-49a7-88e8-1a0c4fbbb54e",
   "metadata": {},
   "outputs": [
    {
     "data": {
      "text/plain": [
       "(inf, inf)"
      ]
     },
     "execution_count": 68,
     "metadata": {},
     "output_type": "execute_result"
    }
   ],
   "source": [
    "a = np.inf\n",
    "b = np.inf\n",
    "a, b"
   ]
  },
  {
   "cell_type": "code",
   "execution_count": 70,
   "id": "857f7fc5-55eb-4a78-8f29-5521c4f2b98a",
   "metadata": {},
   "outputs": [
    {
     "data": {
      "text/plain": [
       "(True, False)"
      ]
     },
     "execution_count": 70,
     "metadata": {},
     "output_type": "execute_result"
    }
   ],
   "source": [
    "a==b, a>b"
   ]
  },
  {
   "cell_type": "code",
   "execution_count": 78,
   "id": "d450fd04-4c5f-45e6-9d2d-0e5c9a4c67aa",
   "metadata": {},
   "outputs": [
    {
     "data": {
      "text/plain": [
       "True"
      ]
     },
     "execution_count": 78,
     "metadata": {},
     "output_type": "execute_result"
    }
   ],
   "source": [
    "None == None"
   ]
  },
  {
   "cell_type": "code",
   "execution_count": 90,
   "id": "7609ca69-ab09-4658-8a26-398f241468c9",
   "metadata": {},
   "outputs": [
    {
     "data": {
      "text/plain": [
       "(2, 3)"
      ]
     },
     "execution_count": 90,
     "metadata": {},
     "output_type": "execute_result"
    }
   ],
   "source": [
    "a = np.array([[1,2,3],[4,5,6]], dtype='f')\n",
    "a.shape"
   ]
  },
  {
   "cell_type": "code",
   "execution_count": 96,
   "id": "f4c89803-575a-49d5-8418-60f38f55e89e",
   "metadata": {},
   "outputs": [
    {
     "data": {
      "text/plain": [
       "array([[ 1., nan, inf],\n",
       "       [ 4.,  5.,  6.]], dtype=float32)"
      ]
     },
     "execution_count": 96,
     "metadata": {},
     "output_type": "execute_result"
    }
   ],
   "source": [
    "a[0][1] = np.nan\n",
    "a[0][2] = np.inf #must be a float dtype\n",
    "a"
   ]
  },
  {
   "cell_type": "code",
   "execution_count": 100,
   "id": "58c404dd-fb5a-4b1b-9e54-94271818577a",
   "metadata": {},
   "outputs": [
    {
     "data": {
      "text/plain": [
       "(array([[False,  True, False],\n",
       "        [False, False, False]]),\n",
       " array([[False, False,  True],\n",
       "        [False, False, False]]))"
      ]
     },
     "execution_count": 100,
     "metadata": {},
     "output_type": "execute_result"
    }
   ],
   "source": [
    "np.isnan(a), np.isinf(a), "
   ]
  },
  {
   "cell_type": "code",
   "execution_count": 102,
   "id": "e34891d1-c41b-44fc-931f-7e670ad48604",
   "metadata": {},
   "outputs": [
    {
     "data": {
      "text/plain": [
       "array([1, 2, 3, 4, 5])"
      ]
     },
     "execution_count": 102,
     "metadata": {},
     "output_type": "execute_result"
    }
   ],
   "source": [
    "a = np.array([1,2,3,4,5])\n",
    "a"
   ]
  },
  {
   "cell_type": "code",
   "execution_count": 126,
   "id": "5e7874c4-8d15-4ff0-ab93-978f354adde7",
   "metadata": {},
   "outputs": [
    {
     "data": {
      "text/plain": [
       "(2.0, 2.0)"
      ]
     },
     "execution_count": 126,
     "metadata": {},
     "output_type": "execute_result"
    }
   ],
   "source": [
    "a.mean(), np.mean(a) #mean means avg"
   ]
  },
  {
   "cell_type": "code",
   "execution_count": 128,
   "id": "5e5afcd7-aac9-4dbc-8e39-1f180715828f",
   "metadata": {},
   "outputs": [
    {
     "data": {
      "text/plain": [
       "1.0"
      ]
     },
     "execution_count": 128,
     "metadata": {},
     "output_type": "execute_result"
    }
   ],
   "source": [
    "a = np.array([1,3])\n",
    "a.var() #variance describes how far each number is from the mean(avg)"
   ]
  },
  {
   "cell_type": "code",
   "execution_count": 130,
   "id": "126a86d8-0189-45c0-8fa8-9f06097df915",
   "metadata": {},
   "outputs": [
    {
     "data": {
      "text/plain": [
       "1.0"
      ]
     },
     "execution_count": 130,
     "metadata": {},
     "output_type": "execute_result"
    }
   ],
   "source": [
    "a.std() #standard deviation describes dispersion (szórás) from the mean"
   ]
  },
  {
   "cell_type": "code",
   "execution_count": 132,
   "id": "9f4dfe57-f818-4822-93e7-38a9380d39fe",
   "metadata": {},
   "outputs": [
    {
     "data": {
      "text/plain": [
       "2.0"
      ]
     },
     "execution_count": 132,
     "metadata": {},
     "output_type": "execute_result"
    }
   ],
   "source": [
    "np.median(a) #middle number"
   ]
  },
  {
   "cell_type": "code",
   "execution_count": 144,
   "id": "748d731c-a207-4bee-8bc8-b6a5402f01fe",
   "metadata": {},
   "outputs": [
    {
     "data": {
      "text/plain": [
       "(2, (2, 4))"
      ]
     },
     "execution_count": 144,
     "metadata": {},
     "output_type": "execute_result"
    }
   ],
   "source": [
    "a = np.array([[1,2,3,4],[1,2,3,4]])\n",
    "a.ndim, a.shape"
   ]
  },
  {
   "cell_type": "code",
   "execution_count": 158,
   "id": "566731c8-f000-412e-9630-735a481a6ac6",
   "metadata": {},
   "outputs": [
    {
     "data": {
      "text/plain": [
       "array([[1, 2, 3, 4, 1, 2, 3, 4]])"
      ]
     },
     "execution_count": 158,
     "metadata": {},
     "output_type": "execute_result"
    }
   ],
   "source": [
    "a.reshape(1,8) #when reshaping values it makes a certain number of rows and coloums given in the parameters"
   ]
  },
  {
   "cell_type": "code",
   "execution_count": 160,
   "id": "2ee5679b-2db0-480f-8d89-faf22ee13b64",
   "metadata": {},
   "outputs": [
    {
     "data": {
      "text/plain": [
       "array([[1, 2, 3, 4, 1, 2, 3, 4]])"
      ]
     },
     "execution_count": 160,
     "metadata": {},
     "output_type": "execute_result"
    }
   ],
   "source": [
    "a.reshape(1,-1) #-1 means it can make as many coloumns as it wants with only one row"
   ]
  },
  {
   "cell_type": "code",
   "execution_count": 156,
   "id": "22e9c83a-b0b5-40ae-ba67-5df85232afc3",
   "metadata": {},
   "outputs": [
    {
     "data": {
      "text/plain": [
       "array([1, 2, 3, 4, 1, 2, 3, 4])"
      ]
     },
     "execution_count": 156,
     "metadata": {},
     "output_type": "execute_result"
    }
   ],
   "source": [
    "a.ravel() #converts a into a 1D array. returns a view, but will change the original array (e.g. a[0][1] = 1 will change the original array)"
   ]
  },
  {
   "cell_type": "code",
   "execution_count": 162,
   "id": "ae688bfd-ac02-4f03-8d6e-1b2ffa575e67",
   "metadata": {},
   "outputs": [
    {
     "data": {
      "text/plain": [
       "array([1, 2, 3, 4, 1, 2, 3, 4])"
      ]
     },
     "execution_count": 162,
     "metadata": {},
     "output_type": "execute_result"
    }
   ],
   "source": [
    "a.flatten() #flatten returns a copy but works similarly to ravel"
   ]
  },
  {
   "cell_type": "code",
   "execution_count": 176,
   "id": "7addb557-0402-4c0d-9d2a-e495247668b8",
   "metadata": {},
   "outputs": [
    {
     "data": {
      "text/plain": [
       "array([2., 3., 4., 5.])"
      ]
     },
     "execution_count": 176,
     "metadata": {},
     "output_type": "execute_result"
    }
   ],
   "source": [
    "np.arange(2,6, dtype='float') #not arrange()!\n",
    "#generates an array from the given inddex, until the given last index"
   ]
  },
  {
   "cell_type": "code",
   "execution_count": 182,
   "id": "7b66d98b-0312-4cca-8bb8-cdd7243dadf4",
   "metadata": {},
   "outputs": [
    {
     "data": {
      "text/plain": [
       "array([2., 4.])"
      ]
     },
     "execution_count": 182,
     "metadata": {},
     "output_type": "execute_result"
    }
   ],
   "source": [
    "np.arange(2,6,2, dtype='float')\n",
    "# the third parameter here specifies how much it should add to the next array number as it generates"
   ]
  },
  {
   "cell_type": "code",
   "execution_count": 197,
   "id": "0655095e-a395-4fe2-8e79-0698f59544b8",
   "metadata": {},
   "outputs": [
    {
     "data": {
      "text/plain": [
       "array([ 1,  3,  6,  8, 11])"
      ]
     },
     "execution_count": 197,
     "metadata": {},
     "output_type": "execute_result"
    }
   ],
   "source": [
    "np.linspace(1,11, 5, dtype='int') #opposed to the last function, with linspace you can specify the length of the returning array \n",
    "#BUT cannot change the difference between the valiues"
   ]
  },
  {
   "cell_type": "code",
   "execution_count": 203,
   "id": "6a83afa7-9a47-4795-b39b-6fb64c9f5f21",
   "metadata": {},
   "outputs": [
    {
     "data": {
      "text/plain": [
       "array([[0., 0., 0., 0., 0.],\n",
       "       [0., 0., 0., 0., 0.]])"
      ]
     },
     "execution_count": 203,
     "metadata": {},
     "output_type": "execute_result"
    }
   ],
   "source": [
    "np.zeros([2,5]) #2d array of zeros, 2 rows, 5 cols. similar function: np.ones()"
   ]
  },
  {
   "cell_type": "code",
   "execution_count": 205,
   "id": "bfe20ed5-8944-4844-a07b-923853a98e45",
   "metadata": {},
   "outputs": [],
   "source": [
    "#np also has the same range() and random() functions as the standard python library"
   ]
  },
  {
   "cell_type": "code",
   "execution_count": 209,
   "id": "f3b992d7-5e57-4c39-b481-4ed7cd0467b9",
   "metadata": {},
   "outputs": [
    {
     "data": {
      "text/plain": [
       "array([1, 2, 3, 1, 2, 3])"
      ]
     },
     "execution_count": 209,
     "metadata": {},
     "output_type": "execute_result"
    }
   ],
   "source": [
    "np.tile([1,2,3], 2) #first params array will be repeated 2 times (concatenates the same array to the end)"
   ]
  },
  {
   "cell_type": "code",
   "execution_count": 213,
   "id": "5a6ff018-8de2-4f9b-9201-fb9201b38e77",
   "metadata": {},
   "outputs": [
    {
     "data": {
      "text/plain": [
       "array([1, 1, 2, 2, 3, 3])"
      ]
     },
     "execution_count": 213,
     "metadata": {},
     "output_type": "execute_result"
    }
   ],
   "source": [
    "np.repeat([1,2,3], 2) # works similarly, except it directly repeats the values after one another instead of concatenating to the end"
   ]
  },
  {
   "cell_type": "code",
   "execution_count": 223,
   "id": "aa2aca46-b2d7-4477-a32e-2660df12bfb3",
   "metadata": {},
   "outputs": [
    {
     "data": {
      "text/plain": [
       "array([[1, 2, 3, 4],\n",
       "       [1, 2, 3, 4]])"
      ]
     },
     "execution_count": 223,
     "metadata": {},
     "output_type": "execute_result"
    }
   ],
   "source": [
    "a"
   ]
  },
  {
   "cell_type": "code",
   "execution_count": 235,
   "id": "71d51dcd-2d9a-4a17-b8f5-220c8febdf39",
   "metadata": {},
   "outputs": [],
   "source": [
    "index = np.where(a>3) #iterates through the array and gives back where the conditions return true (returns the indexes)"
   ]
  },
  {
   "cell_type": "code",
   "execution_count": 231,
   "id": "a1469b00-65a6-470e-be41-954f2b5701c3",
   "metadata": {},
   "outputs": [
    {
     "data": {
      "text/plain": [
       "array([4, 4])"
      ]
     },
     "execution_count": 231,
     "metadata": {},
     "output_type": "execute_result"
    }
   ],
   "source": [
    "a[index] #shows the actual values where it returned true"
   ]
  },
  {
   "cell_type": "code",
   "execution_count": 239,
   "id": "4f7a0af0-5495-4eac-ab2d-db9c80d4e43d",
   "metadata": {},
   "outputs": [
    {
     "data": {
      "text/plain": [
       "array([[1, 2, 3, 0],\n",
       "       [1, 2, 3, 0]])"
      ]
     },
     "execution_count": 239,
     "metadata": {},
     "output_type": "execute_result"
    }
   ],
   "source": [
    "np.where(a>3, 0, a) #if the a>4, replace a with 0"
   ]
  },
  {
   "cell_type": "code",
   "execution_count": 246,
   "id": "0eb0b8ac-a5ef-45be-85af-c1458a0f5db7",
   "metadata": {},
   "outputs": [
    {
     "data": {
      "text/plain": [
       "3"
      ]
     },
     "execution_count": 246,
     "metadata": {},
     "output_type": "execute_result"
    }
   ],
   "source": [
    "a.argmax() #maximum argument"
   ]
  },
  {
   "cell_type": "code",
   "execution_count": 250,
   "id": "d857e0ad-785d-49b1-b427-2bd0cef30b78",
   "metadata": {},
   "outputs": [
    {
     "data": {
      "text/plain": [
       "4"
      ]
     },
     "execution_count": 250,
     "metadata": {},
     "output_type": "execute_result"
    }
   ],
   "source": [
    "a.flatten()[3] #by flattening and indexing you get back the max value (alternatively you can use max())"
   ]
  },
  {
   "cell_type": "code",
   "execution_count": 264,
   "id": "35f6a296-f43d-4cd2-bcfe-8cc560a231b2",
   "metadata": {},
   "outputs": [],
   "source": [
    "import os\n",
    "os.makedirs('data', exist_ok=True) # needed to make an array, since save() wont do it by itself\n",
    "np.save('data/a.npy', a) #fileanem and what you want to store"
   ]
  },
  {
   "cell_type": "code",
   "execution_count": 270,
   "id": "7eb052c2-4bee-430e-a7e7-db12fc80f12b",
   "metadata": {},
   "outputs": [],
   "source": [
    "np.savetxt('data/a.csv', a, delimiter=',') #you cannot save a 3d array in csv. the txt in the function name can be confusing"
   ]
  },
  {
   "cell_type": "code",
   "execution_count": 272,
   "id": "94aab73a-4eb7-44da-9501-4e3f4689dc59",
   "metadata": {},
   "outputs": [
    {
     "data": {
      "text/plain": [
       "(3, (2, 2, 4))"
      ]
     },
     "execution_count": 272,
     "metadata": {},
     "output_type": "execute_result"
    }
   ],
   "source": [
    "b = np.array([a,a])\n",
    "b.ndim, b.shape"
   ]
  },
  {
   "cell_type": "code",
   "execution_count": 274,
   "id": "0d619f55-9d64-4def-8eae-bc06dd782399",
   "metadata": {},
   "outputs": [],
   "source": [
    "np.save('data/b.npy', b)"
   ]
  },
  {
   "cell_type": "code",
   "execution_count": 276,
   "id": "f1c55826-8f1e-45b5-bcf9-9082bc42a313",
   "metadata": {},
   "outputs": [],
   "source": [
    "aa = np.loadtxt('data/a.csv', delimiter=',')"
   ]
  },
  {
   "cell_type": "code",
   "execution_count": 280,
   "id": "486a4b3e-39ec-4206-a8f8-d925676ad500",
   "metadata": {},
   "outputs": [
    {
     "data": {
      "text/plain": [
       "array([[1, 2, 3, 4],\n",
       "       [1, 2, 3, 4]])"
      ]
     },
     "execution_count": 280,
     "metadata": {},
     "output_type": "execute_result"
    }
   ],
   "source": [
    "np.load('data/a.npy') #reads the binary data"
   ]
  },
  {
   "cell_type": "code",
   "execution_count": 282,
   "id": "fdeebbee-2ec3-4442-bb9c-9d76cb065e1b",
   "metadata": {},
   "outputs": [
    {
     "data": {
      "text/plain": [
       "array([[[1, 2, 3, 4],\n",
       "        [1, 2, 3, 4]],\n",
       "\n",
       "       [[1, 2, 3, 4],\n",
       "        [1, 2, 3, 4]]])"
      ]
     },
     "execution_count": 282,
     "metadata": {},
     "output_type": "execute_result"
    }
   ],
   "source": [
    "np.load('data/b.npy')"
   ]
  },
  {
   "cell_type": "code",
   "execution_count": 296,
   "id": "e611af53-6e41-48f7-999f-d6418f1b44b7",
   "metadata": {},
   "outputs": [],
   "source": [
    "np.savez('data/a.npz', a ,b) #saves multiple arrays like this"
   ]
  },
  {
   "cell_type": "code",
   "execution_count": 298,
   "id": "79b552ce-5a05-4b5d-8dcc-81f7dd0a707f",
   "metadata": {},
   "outputs": [],
   "source": [
    "d = np.load('data/a.npz')"
   ]
  },
  {
   "cell_type": "code",
   "execution_count": 300,
   "id": "5bef92f6-3abf-4ed2-8c77-05ea77a385dd",
   "metadata": {},
   "outputs": [
    {
     "data": {
      "text/plain": [
       "['arr_0', 'arr_1']"
      ]
     },
     "execution_count": 300,
     "metadata": {},
     "output_type": "execute_result"
    }
   ],
   "source": [
    "d.files"
   ]
  },
  {
   "cell_type": "code",
   "execution_count": 302,
   "id": "29aa41a1-1ad5-4b00-8d42-f2497e0d83fa",
   "metadata": {},
   "outputs": [
    {
     "data": {
      "text/plain": [
       "array([[1, 2, 3, 4],\n",
       "       [1, 2, 3, 4]])"
      ]
     },
     "execution_count": 302,
     "metadata": {},
     "output_type": "execute_result"
    }
   ],
   "source": [
    "d['arr_0']"
   ]
  },
  {
   "cell_type": "code",
   "execution_count": 313,
   "id": "fd29438e-20dd-476b-a58b-b637707e8279",
   "metadata": {},
   "outputs": [
    {
     "data": {
      "text/plain": [
       "array([1, 2, 3, 4])"
      ]
     },
     "execution_count": 313,
     "metadata": {},
     "output_type": "execute_result"
    }
   ],
   "source": [
    "a = np.array([1,2])\n",
    "b = np.array([3,4])\n",
    "np.concatenate([a,b]) #dimensions must match"
   ]
  },
  {
   "cell_type": "code",
   "execution_count": 322,
   "id": "565cf3c0-c7f0-405f-ad98-feb5e8bb1d56",
   "metadata": {},
   "outputs": [
    {
     "data": {
      "text/plain": [
       "array([1, 2, 3, 4])"
      ]
     },
     "execution_count": 322,
     "metadata": {},
     "output_type": "execute_result"
    }
   ],
   "source": [
    "np.concatenate([a,b], axis= 0) #chooses where it concatenates ?"
   ]
  },
  {
   "cell_type": "code",
   "execution_count": 332,
   "id": "aa116a8b-6ad7-4b45-9e6d-b28e7fad312a",
   "metadata": {},
   "outputs": [
    {
     "data": {
      "text/plain": [
       "array([[1, 2],\n",
       "       [3, 4],\n",
       "       [5, 6],\n",
       "       [7, 8]])"
      ]
     },
     "execution_count": 332,
     "metadata": {},
     "output_type": "execute_result"
    }
   ],
   "source": [
    "a = np.array([[1,2], [3,4]])\n",
    "b = np.array([[5,6], [7,8]])\n",
    "np.concatenate([a,b], axis= 0)"
   ]
  },
  {
   "cell_type": "code",
   "execution_count": 334,
   "id": "a9ff575b-52c3-46b4-87bb-8416df4d64f7",
   "metadata": {},
   "outputs": [
    {
     "data": {
      "text/plain": [
       "array([[1, 2, 5, 6],\n",
       "       [3, 4, 7, 8]])"
      ]
     },
     "execution_count": 334,
     "metadata": {},
     "output_type": "execute_result"
    }
   ],
   "source": [
    "np.concatenate([a,b], axis= 1)"
   ]
  },
  {
   "cell_type": "code",
   "execution_count": 336,
   "id": "80773eac-f865-492c-8058-dc50598830d0",
   "metadata": {},
   "outputs": [
    {
     "data": {
      "text/plain": [
       "array([[1, 2],\n",
       "       [3, 4],\n",
       "       [5, 6],\n",
       "       [7, 8]])"
      ]
     },
     "execution_count": 336,
     "metadata": {},
     "output_type": "execute_result"
    }
   ],
   "source": [
    "np.vstack([a,b])"
   ]
  },
  {
   "cell_type": "code",
   "execution_count": 338,
   "id": "b285bee4-af20-47a1-9bfd-023cdc5dbdf4",
   "metadata": {},
   "outputs": [
    {
     "data": {
      "text/plain": [
       "array([[1, 2, 5, 6],\n",
       "       [3, 4, 7, 8]])"
      ]
     },
     "execution_count": 338,
     "metadata": {},
     "output_type": "execute_result"
    }
   ],
   "source": [
    "np.hstack([a,b])"
   ]
  },
  {
   "cell_type": "code",
   "execution_count": null,
   "id": "26f9fd2d-a36c-424b-8219-2cdf62403864",
   "metadata": {},
   "outputs": [],
   "source": []
  }
 ],
 "metadata": {
  "kernelspec": {
   "display_name": "Python 3 (ipykernel)",
   "language": "python",
   "name": "python3"
  },
  "language_info": {
   "codemirror_mode": {
    "name": "ipython",
    "version": 3
   },
   "file_extension": ".py",
   "mimetype": "text/x-python",
   "name": "python",
   "nbconvert_exporter": "python",
   "pygments_lexer": "ipython3",
   "version": "3.12.4"
  }
 },
 "nbformat": 4,
 "nbformat_minor": 5
}
